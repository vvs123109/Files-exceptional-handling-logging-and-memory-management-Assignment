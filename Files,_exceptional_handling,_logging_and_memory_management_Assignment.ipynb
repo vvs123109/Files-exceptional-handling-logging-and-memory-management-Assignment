{
  "nbformat": 4,
  "nbformat_minor": 0,
  "metadata": {
    "colab": {
      "provenance": []
    },
    "kernelspec": {
      "name": "python3",
      "display_name": "Python 3"
    },
    "language_info": {
      "name": "python"
    }
  },
  "cells": [
    {
      "cell_type": "markdown",
      "source": [
        "# Files, exceptional handling, logging and memory management Assignment\n",
        "\n"
      ],
      "metadata": {
        "id": "_Xo6A9BtNOBw"
      }
    },
    {
      "cell_type": "markdown",
      "source": [
        "\n",
        "\n",
        "1. **What is the difference between interpreted and compiled languages?**  \n",
        "   Interpreted languages execute code line by line, while compiled languages convert the entire code into machine language before execution\n",
        "\n",
        "\n",
        "\n",
        "2. **What is exception handling in Python?**  \n",
        "   Exception handling manages runtime errors using `try`, `except`, `else`, and `finally` to prevent program crashes.\n",
        "\n",
        "\n",
        "\n",
        "3. **What is the purpose of the finally block in exception handling?**  \n",
        "   The `finally` block ensures that cleanup code (like closing files) executes, whether an exception occurs or not.\n",
        "\n",
        "\n",
        "\n",
        "4. **What is logging in Python?**  \n",
        "   Logging is a way to track events in a program, helping in debugging and monitoring application behavior.\n",
        "\n",
        "\n",
        "\n",
        "5. **What is the significance of the `__del__` method in Python?**  \n",
        "   The `__del__` method is a destructor that gets called when an object is deleted to release resources.\n",
        "\n",
        "\n",
        "\n",
        "6. **What is the difference between `import` and `from ... import` in Python?**  \n",
        "   `import module` imports the whole module, whereas `from module import function` imports a specific function or object.\n",
        "\n",
        "\n",
        "\n",
        "7. **How can you handle multiple exceptions in Python?**  \n",
        "   Multiple exceptions can be handled using multiple `except` blocks or a single `except` block with a tuple of exception types.\n",
        "\n",
        "\n",
        "\n",
        "8. **What is the purpose of the `with` statement when handling files in Python?**  \n",
        "   The `with` statement ensures proper resource management by automatically closing files after execution.\n",
        "\n",
        "\n",
        "9. **What is the difference between multithreading and multiprocessing?**  \n",
        "   Multithreading runs multiple threads in the same process, while multiprocessing runs separate processes with independent memory.\n",
        "\n",
        "\n",
        "\n",
        "10. **What are the advantages of using logging in a program?**  \n",
        "    Logging helps track errors, monitor execution, and analyze application performance for debugging.\n",
        "\n",
        "\n",
        "\n",
        "11. **What is memory management in Python?**  \n",
        "    Memory management in Python is handled by the garbage collector and dynamic memory allocation.\n",
        "\n",
        "\n",
        "\n",
        "12. **What are the basic steps involved in exception handling in Python?**  \n",
        "    Use `try` to write risky code, `except` to catch exceptions, `else` for normal execution, and `finally` for cleanup.\n",
        "\n",
        "\n",
        "\n",
        "13. **Why is memory management important in Python?**  \n",
        "    It optimizes memory usage, prevents memory leaks, and improves application performance.\n",
        "\n",
        "\n",
        "\n",
        "14. **What is the role of `try` and `except` in exception handling?**  \n",
        "    `try` contains code that might raise an error, while `except` handles the error if it occurs.\n",
        "\n",
        "\n",
        "\n",
        "15. **How does Python’s garbage collection system work?**  \n",
        "    Python uses reference counting and a cyclic garbage collector to free unused memory.\n",
        "\n",
        "\n",
        "16. **What is the purpose of the `else` block in exception handling?**  \n",
        "    The `else` block executes if no exception occurs in the `try` block.\n",
        "\n",
        "\n",
        "17. **What are the common logging levels in Python?**  \n",
        "    The common logging levels are DEBUG, INFO, WARNING, ERROR, and CRITICAL.\n",
        "\n",
        "\n",
        "\n",
        "18. **What is the difference between `os.fork()` and multiprocessing in Python?**  \n",
        "    `os.fork()` creates a child process in Unix systems, while multiprocessing works cross-platform using process-based parallelism.\n",
        "\n",
        "\n",
        "\n",
        "19. **What is the importance of closing a file in Python?**  \n",
        "    Closing a file releases system resources and prevents data corruption.\n",
        "\n",
        "\n",
        "\n",
        "20. **What is the difference between `file.read()` and `file.readline()` in Python?**  \n",
        "    `file.read()` reads the entire file, while `file.readline()` reads one line\n",
        "    at a time.\n",
        "\n",
        "\n",
        "\n",
        "21. **What is the logging module in Python used for?**  \n",
        "    The logging module records runtime events to help debug and track program execution.\n",
        "\n",
        "\n",
        "\n",
        "22. **What is the `os` module in Python used for in file handling?**  \n",
        "    The `os` module allows interaction with the operating system, including file and directory operations.\n",
        "\n",
        "\n",
        "\n",
        "23. **What are the challenges associated with memory management in Python?**  \n",
        "    Challenges include high memory consumption, cyclic references, and delayed garbage collection.\n",
        "\n",
        "\n",
        "\n",
        "24. **How do you raise an exception manually in Python?**  \n",
        "    Use the `raise` keyword followed by an exception type, e.g., `raise ValueError(\"Invalid input\")`.\n",
        "\n",
        "\n",
        "\n",
        "25. **Why is it important to use multithreading in certain applications?**  \n",
        "    Multithreading improves performance in I/O-bound tasks by allowing concurrent execution.\n"
      ],
      "metadata": {
        "id": "mmVP0TUnONOM"
      }
    },
    {
      "cell_type": "code",
      "execution_count": 2,
      "metadata": {
        "colab": {
          "base_uri": "https://localhost:8080/",
          "height": 349
        },
        "id": "o6v1tBQYNHUv",
        "outputId": "dd62c2bd-ca72-4a6b-ead7-9ebe0e1603a2"
      },
      "outputs": [
        {
          "output_type": "stream",
          "name": "stderr",
          "text": [
            "ERROR:root:Division by zero error: division by zero\n",
            "WARNING:root:This is a warning message\n",
            "ERROR:root:This is an error message\n"
          ]
        },
        {
          "output_type": "stream",
          "name": "stdout",
          "text": [
            "Hello, this is a test file.\n",
            "File not found.\n",
            "Error: source.txt not found.\n",
            "Cannot divide by zero.\n",
            "Error: File not found\n"
          ]
        },
        {
          "output_type": "error",
          "ename": "FileNotFoundError",
          "evalue": "[Errno 2] No such file or directory: 'data.txt'",
          "traceback": [
            "\u001b[0;31m---------------------------------------------------------------------------\u001b[0m",
            "\u001b[0;31mFileNotFoundError\u001b[0m                         Traceback (most recent call last)",
            "\u001b[0;32m<ipython-input-2-e0b841d443bb>\u001b[0m in \u001b[0;36m<cell line: 0>\u001b[0;34m()\u001b[0m\n\u001b[1;32m     52\u001b[0m \u001b[0;34m\u001b[0m\u001b[0m\n\u001b[1;32m     53\u001b[0m \u001b[0;31m# 9. How can you read a file line by line and store its content in a list in Python?\u001b[0m\u001b[0;34m\u001b[0m\u001b[0;34m\u001b[0m\u001b[0m\n\u001b[0;32m---> 54\u001b[0;31m \u001b[0;32mwith\u001b[0m \u001b[0mopen\u001b[0m\u001b[0;34m(\u001b[0m\u001b[0;34m\"data.txt\"\u001b[0m\u001b[0;34m,\u001b[0m \u001b[0;34m\"r\"\u001b[0m\u001b[0;34m)\u001b[0m \u001b[0;32mas\u001b[0m \u001b[0mfile\u001b[0m\u001b[0;34m:\u001b[0m\u001b[0;34m\u001b[0m\u001b[0;34m\u001b[0m\u001b[0m\n\u001b[0m\u001b[1;32m     55\u001b[0m     \u001b[0mlines\u001b[0m \u001b[0;34m=\u001b[0m \u001b[0mfile\u001b[0m\u001b[0;34m.\u001b[0m\u001b[0mreadlines\u001b[0m\u001b[0;34m(\u001b[0m\u001b[0;34m)\u001b[0m\u001b[0;34m\u001b[0m\u001b[0;34m\u001b[0m\u001b[0m\n\u001b[1;32m     56\u001b[0m \u001b[0mprint\u001b[0m\u001b[0;34m(\u001b[0m\u001b[0mlines\u001b[0m\u001b[0;34m)\u001b[0m\u001b[0;34m\u001b[0m\u001b[0;34m\u001b[0m\u001b[0m\n",
            "\u001b[0;31mFileNotFoundError\u001b[0m: [Errno 2] No such file or directory: 'data.txt'"
          ]
        }
      ],
      "source": [
        "# 1. How can you open a file for writing in Python and write a string to it?\n",
        "with open(\"example.txt\", \"w\") as file:\n",
        "    file.write(\"Hello, this is a test file.\")\n",
        "\n",
        "# 2. Write a Python program to read the contents of a file and print each line.\n",
        "with open(\"example.txt\", \"r\") as file:\n",
        "    for line in file:\n",
        "        print(line.strip())\n",
        "\n",
        "# 3. How would you handle a case where the file doesn’t exist while trying to open it for reading?\n",
        "try:\n",
        "    with open(\"nonexistent.txt\", \"r\") as file:\n",
        "        print(file.read())\n",
        "except FileNotFoundError:\n",
        "    print(\"File not found.\")\n",
        "\n",
        "# 4. Write a Python script that reads from one file and writes its content to another file.\n",
        "import os\n",
        "\n",
        "if os.path.exists(\"source.txt\"):\n",
        "    with open(\"source.txt\", \"r\") as source, open(\"destination.txt\", \"w\") as destination:\n",
        "        destination.write(source.read())\n",
        "else:\n",
        "    print(\"Error: source.txt not found.\")\n",
        "\n",
        "# 5. How would you catch and handle division by zero error in Python?\n",
        "try:\n",
        "    result = 10 / 0\n",
        "except ZeroDivisionError:\n",
        "    print(\"Cannot divide by zero.\")\n",
        "\n",
        "# 6. Write a Python program that logs an error message to a log file when a division by zero exception occurs.\n",
        "import logging\n",
        "logging.basicConfig(filename=\"error.log\", level=logging.ERROR)\n",
        "try:\n",
        "    x = 1 / 0\n",
        "except ZeroDivisionError as e:\n",
        "    logging.error(\"Division by zero error: %s\", e)\n",
        "\n",
        "# 7. How do you log information at different levels (INFO, ERROR, WARNING) in Python using the logging module?\n",
        "logging.basicConfig(level=logging.DEBUG)\n",
        "logging.info(\"This is an info message\")\n",
        "logging.warning(\"This is a warning message\")\n",
        "logging.error(\"This is an error message\")\n",
        "\n",
        "# 8. Write a program to handle a file opening error using exception handling.\n",
        "try:\n",
        "    with open(\"unknown.txt\", \"r\") as file:\n",
        "        print(file.read())\n",
        "except FileNotFoundError:\n",
        "    print(\"Error: File not found\")\n",
        "\n",
        "# 9. How can you read a file line by line and store its content in a list in Python?\n",
        "with open(\"data.txt\", \"r\") as file:\n",
        "    lines = file.readlines()\n",
        "print(lines)\n",
        "\n"
      ]
    },
    {
      "cell_type": "code",
      "source": [
        "# 10. How can you append data to an existing file in Python?\n",
        "with open(\"example.txt\", \"a\") as file:\n",
        "    file.write(\"\\nNew line added.\")\n",
        "\n",
        "# 11. Write a Python program that uses a try-except block to handle an error when attempting to access a dictionary key that doesn’t exist.\n",
        "data = {\"name\": \"Alice\"}\n",
        "try:\n",
        "    print(data[\"age\"])\n",
        "except KeyError:\n",
        "    print(\"Key not found in dictionary\")\n",
        "\n",
        "# 12. Write a program that demonstrates using multiple except blocks to handle different types of exceptions.\n",
        "try:\n",
        "    x = int(\"abc\")  # ValueError\n",
        "    y = 1 / 0        # ZeroDivisionError\n",
        "except ValueError:\n",
        "    print(\"Invalid value format\")\n",
        "except ZeroDivisionError:\n",
        "    print(\"Cannot divide by zero\")\n",
        "\n",
        "# 13. How would you check if a file exists before attempting to read it in Python?\n",
        "import os\n",
        "if os.path.exists(\"example.txt\"):\n",
        "    with open(\"example.txt\", \"r\") as file:\n",
        "        print(file.read())\n",
        "else:\n",
        "    print(\"File does not exist\")\n",
        "\n",
        "# 14. Write a program that uses the logging module to log both informational and error messages.\n",
        "logging.basicConfig(filename=\"app.log\", level=logging.INFO)\n",
        "logging.info(\"This is an info message\")\n",
        "logging.error(\"This is an error message\")\n",
        "\n",
        "\n",
        "# 16. Demonstrate how to use memory profiling to check the memory usage of a small program.\n",
        "from memory_profiler import profile\n",
        "@profile\n",
        "def my_function():\n",
        "    x = [i for i in range(100000)]  # Consumes memory\n",
        "    return x\n",
        "my_function()\n",
        "\n"
      ],
      "metadata": {
        "colab": {
          "base_uri": "https://localhost:8080/",
          "height": 522
        },
        "id": "OJnA_p82PCH8",
        "outputId": "65840ad7-fb7b-4318-a242-d429e5a90b5c"
      },
      "execution_count": 6,
      "outputs": [
        {
          "output_type": "stream",
          "name": "stderr",
          "text": [
            "ERROR:root:This is an error message\n"
          ]
        },
        {
          "output_type": "stream",
          "name": "stdout",
          "text": [
            "Key not found in dictionary\n",
            "Invalid value format\n",
            "Hello, this is a test file.\n",
            "New line added.\n",
            "New line added.\n",
            "New line added.\n",
            "New line added.\n"
          ]
        },
        {
          "output_type": "error",
          "ename": "ModuleNotFoundError",
          "evalue": "No module named 'memory_profiler'",
          "traceback": [
            "\u001b[0;31m---------------------------------------------------------------------------\u001b[0m",
            "\u001b[0;31mModuleNotFoundError\u001b[0m                       Traceback (most recent call last)",
            "\u001b[0;32m<ipython-input-6-5a85c0f60409>\u001b[0m in \u001b[0;36m<cell line: 0>\u001b[0;34m()\u001b[0m\n\u001b[1;32m     34\u001b[0m \u001b[0;34m\u001b[0m\u001b[0m\n\u001b[1;32m     35\u001b[0m \u001b[0;31m# 16. Demonstrate how to use memory profiling to check the memory usage of a small program.\u001b[0m\u001b[0;34m\u001b[0m\u001b[0;34m\u001b[0m\u001b[0m\n\u001b[0;32m---> 36\u001b[0;31m \u001b[0;32mfrom\u001b[0m \u001b[0mmemory_profiler\u001b[0m \u001b[0;32mimport\u001b[0m \u001b[0mprofile\u001b[0m\u001b[0;34m\u001b[0m\u001b[0;34m\u001b[0m\u001b[0m\n\u001b[0m\u001b[1;32m     37\u001b[0m \u001b[0;34m@\u001b[0m\u001b[0mprofile\u001b[0m\u001b[0;34m\u001b[0m\u001b[0;34m\u001b[0m\u001b[0m\n\u001b[1;32m     38\u001b[0m \u001b[0;32mdef\u001b[0m \u001b[0mmy_function\u001b[0m\u001b[0;34m(\u001b[0m\u001b[0;34m)\u001b[0m\u001b[0;34m:\u001b[0m\u001b[0;34m\u001b[0m\u001b[0;34m\u001b[0m\u001b[0m\n",
            "\u001b[0;31mModuleNotFoundError\u001b[0m: No module named 'memory_profiler'",
            "",
            "\u001b[0;31m---------------------------------------------------------------------------\u001b[0;32m\nNOTE: If your import is failing due to a missing package, you can\nmanually install dependencies using either !pip or !apt.\n\nTo view examples of installing some common dependencies, click the\n\"Open Examples\" button below.\n\u001b[0;31m---------------------------------------------------------------------------\u001b[0m\n"
          ],
          "errorDetails": {
            "actions": [
              {
                "action": "open_url",
                "actionText": "Open Examples",
                "url": "/notebooks/snippets/importing_libraries.ipynb"
              }
            ]
          }
        }
      ]
    },
    {
      "cell_type": "code",
      "source": [
        "# 17. Write a Python program to create and write a list of numbers to a file, one number per line.\n",
        "numbers = [1, 2, 3, 4, 5]\n",
        "with open(\"numbers.txt\", \"w\") as file:\n",
        "    for number in numbers:\n",
        "        file.write(f\"{number}\\n\")\n",
        "\n",
        "# 18. How would you implement a basic logging setup that logs to a file with rotation after 1MB?\n",
        "from logging.handlers import RotatingFileHandler\n",
        "handler = RotatingFileHandler(\"app.log\", maxBytes=1024 * 1024, backupCount=3)\n",
        "logging.basicConfig(handlers=[handler], level=logging.INFO)\n",
        "\n",
        "# 19. Write a program that handles both IndexError and KeyError using a try-except block.\n",
        "try:\n",
        "    lst = [1, 2, 3]\n",
        "    print(lst[5])  # IndexError\n",
        "    data = {\"name\": \"John\"}\n",
        "    print(data[\"age\"])  # KeyError\n",
        "except (IndexError, KeyError):\n",
        "    print(\"Either an index or key error occurred\")\n",
        "\n",
        "\n",
        "\n",
        "# 20. How would you open a file and read its contents using a context manager in Python?\n",
        "with open(\"file.txt\", \"r\") as file:\n",
        "    print(file.read())\n",
        "\n"
      ],
      "metadata": {
        "colab": {
          "base_uri": "https://localhost:8080/",
          "height": 228
        },
        "id": "3kimEbj8Pyv9",
        "outputId": "11caf6be-7c33-40a9-fe64-d6ae2a230f7f"
      },
      "execution_count": 7,
      "outputs": [
        {
          "output_type": "stream",
          "name": "stdout",
          "text": [
            "Either an index or key error occurred\n"
          ]
        },
        {
          "output_type": "error",
          "ename": "FileNotFoundError",
          "evalue": "[Errno 2] No such file or directory: 'file.txt'",
          "traceback": [
            "\u001b[0;31m---------------------------------------------------------------------------\u001b[0m",
            "\u001b[0;31mFileNotFoundError\u001b[0m                         Traceback (most recent call last)",
            "\u001b[0;32m<ipython-input-7-fc2f91e43c62>\u001b[0m in \u001b[0;36m<cell line: 0>\u001b[0;34m()\u001b[0m\n\u001b[1;32m     22\u001b[0m \u001b[0;34m\u001b[0m\u001b[0m\n\u001b[1;32m     23\u001b[0m \u001b[0;31m# 20. How would you open a file and read its contents using a context manager in Python?\u001b[0m\u001b[0;34m\u001b[0m\u001b[0;34m\u001b[0m\u001b[0m\n\u001b[0;32m---> 24\u001b[0;31m \u001b[0;32mwith\u001b[0m \u001b[0mopen\u001b[0m\u001b[0;34m(\u001b[0m\u001b[0;34m\"file.txt\"\u001b[0m\u001b[0;34m,\u001b[0m \u001b[0;34m\"r\"\u001b[0m\u001b[0;34m)\u001b[0m \u001b[0;32mas\u001b[0m \u001b[0mfile\u001b[0m\u001b[0;34m:\u001b[0m\u001b[0;34m\u001b[0m\u001b[0;34m\u001b[0m\u001b[0m\n\u001b[0m\u001b[1;32m     25\u001b[0m     \u001b[0mprint\u001b[0m\u001b[0;34m(\u001b[0m\u001b[0mfile\u001b[0m\u001b[0;34m.\u001b[0m\u001b[0mread\u001b[0m\u001b[0;34m(\u001b[0m\u001b[0;34m)\u001b[0m\u001b[0;34m)\u001b[0m\u001b[0;34m\u001b[0m\u001b[0;34m\u001b[0m\u001b[0m\n\u001b[1;32m     26\u001b[0m \u001b[0;34m\u001b[0m\u001b[0m\n",
            "\u001b[0;31mFileNotFoundError\u001b[0m: [Errno 2] No such file or directory: 'file.txt'"
          ]
        }
      ]
    },
    {
      "cell_type": "code",
      "source": [],
      "metadata": {
        "id": "kji75g07QIw0"
      },
      "execution_count": null,
      "outputs": []
    }
  ]
}